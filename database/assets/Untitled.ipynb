{
 "cells": [
  {
   "cell_type": "code",
   "execution_count": 100,
   "metadata": {},
   "outputs": [],
   "source": [
    "import pandas as pd"
   ]
  },
  {
   "cell_type": "code",
   "execution_count": 101,
   "metadata": {},
   "outputs": [],
   "source": [
    "df = pd.read_csv('FS_2020.csv','r')"
   ]
  },
  {
   "cell_type": "code",
   "execution_count": 102,
   "metadata": {},
   "outputs": [
    {
     "data": {
      "text/plain": [
       "Index(['SLNO,EMPLOYEEID,EMPLOYEENAME,DEPARTMENT,DESIGNATION'], dtype='object')"
      ]
     },
     "execution_count": 102,
     "metadata": {},
     "output_type": "execute_result"
    }
   ],
   "source": [
    "df.keys()"
   ]
  },
  {
   "cell_type": "code",
   "execution_count": 103,
   "metadata": {},
   "outputs": [],
   "source": [
    "array = df['SLNO,EMPLOYEEID,EMPLOYEENAME,DEPARTMENT,DESIGNATION']"
   ]
  },
  {
   "cell_type": "code",
   "execution_count": 104,
   "metadata": {},
   "outputs": [],
   "source": [
    "prof = []\n",
    "for det in array:\n",
    "    x = det.split(\",\")\n",
    "    prof.append([x[1],x[2],x[3],x[4]])"
   ]
  },
  {
   "cell_type": "code",
   "execution_count": 105,
   "metadata": {},
   "outputs": [
    {
     "data": {
      "text/plain": [
       "['20056', 'BUDDHADEB SAU', 'MATHEMATICS', 'PROFESSOR']"
      ]
     },
     "execution_count": 105,
     "metadata": {},
     "output_type": "execute_result"
    }
   ],
   "source": [
    "prof[70]"
   ]
  },
  {
   "cell_type": "code",
   "execution_count": 106,
   "metadata": {},
   "outputs": [],
   "source": [
    "def getDept(dept):\n",
    "    if dept == \"MECHANICAL ENGG. WORKSHOP\" or dept == \"MECHANICAL ENGG.\" or dept == \"POWER HOUSE\":\n",
    "        return \"ENGG11\"\n",
    "    elif dept == \"CIVIL ENGG.\":\n",
    "        return \"ENGG03\"\n",
    "    elif dept == \"CHEMICAL ENGG.\":\n",
    "        return \"ENGG02\"\n",
    "    elif dept == \"FOOD TECH. AND BIO CH. ENGG.\":\n",
    "        return \"ENGG08\"\n",
    "    elif dept == \"METALLURGICAL ENGG.\":\n",
    "        return \"ENGG12\"\n",
    "    elif dept == \"PRODUCTION ENGG.\":\n",
    "        return \"ENGG16\"\n",
    "    elif dept == \"ELECTRICAL ENGG.\":\n",
    "        return \"ENGG06\"\n",
    "    elif dept == \"COMPUTER SCIENCE ENGG.\":\n",
    "        return \"ENGG04\"\n",
    "    elif dept == \"ELECTRONICS AND TELE.COMM.ENGG.\":\n",
    "        return \"ENGG07\"\n",
    "    elif dept == \"ARCHITECTURE\":\n",
    "        return \"ENGG01\"\n",
    "    elif dept == \"PHARMACY\":\n",
    "        return \"ENGG13\"\n",
    "    elif dept == \"POWER ENGINEERING\":\n",
    "        return \"ENGG14\"\n",
    "    elif dept == \"CONSTRUCTION ENGG.\":\n",
    "        return \"ENGG05\"\n",
    "    elif dept == \"INSTRUMENTATION ENGG.\":\n",
    "        return \"ENGG10\"\n",
    "    elif dept == \"PRINTING ENGG.\":\n",
    "        return \"ENGG15\"\n",
    "    elif dept == \"INFORMATION TECH.\":\n",
    "        return \"ENGG09\"\n",
    "    elif dept == \"BENGALI\":\n",
    "        return \"ARTS01\"\n",
    "    elif dept == \"COMPARATIVE LITERATURE\":\n",
    "        return \"ARTS02\"\n",
    "    elif dept == \"ECONOMICS\":\n",
    "        return \"ARTS03\"\n",
    "    elif dept == \"ENGLISH\":\n",
    "        return \"ARTS05\"\n",
    "    elif dept == \"HISTORY\":\n",
    "        return \"ARTS07\"\n",
    "    elif dept == \"FILM STUDIES\":\n",
    "        return \"ARTS06\"\n",
    "    elif dept == \"PHILOSOPHY\":\n",
    "        return \"ARTS10\"\n",
    "    elif dept == \"INTERNATIONAL RELATIONS\":\n",
    "        return \"ARTS08\"\n",
    "    elif dept == \"SANSKRIT\":\n",
    "        return \"ARTS12\"\n",
    "    elif dept == \"PHYSICAL EDUCATION\":\n",
    "        return \"ARTS11\"\n",
    "    elif dept == \"LIBRARY AND INFORMATION SCIENCE\":\n",
    "        return \"ARTS09\"\n",
    "    elif dept == \"SOCIOLOGY\":\n",
    "        return \"ARTS13\"\n",
    "    elif dept == \"EDUCATION\":\n",
    "        return \"ARTS04\"\n",
    "    elif dept == \"INORGANIC CHEMISTRY\" or dept == \"ORGANIC CHEMISTRY\" or dept == \"PHYSICAL CHEMISTRY\":\n",
    "        return \"SCIENCE01\"\n",
    "    elif dept == \"GEOLOGICAL SCIENCE\":\n",
    "        return \"SCIENCE02\"\n",
    "    elif dept == \"GEOGRAPHY\":\n",
    "        return \"SCIENCE03\"\n",
    "    elif dept == \"MATHEMATICS\":\n",
    "        return \"SCIENCE06\"\n",
    "    elif dept == \"PHYSICS\":\n",
    "        return \"SCIENCE07\"\n",
    "    elif dept == \"LIFE SCIENCE AND BIO TECH.\":\n",
    "        return \"SCIENCE05\"\n",
    "    elif dept == \"INSTRUMENTATION SCIENCE\":\n",
    "        return \"SCIENCE04\"\n",
    "def getDeptId(dept):\n",
    "    return dept[7:]\n",
    "def getId(ids):\n",
    "    i = int(ids)-1\n",
    "    depts = ['Arch','ChE','CiE','CSE','CoE','EE','ETCE','FTBCE','IT','IEE','ME','MME','PhT','PoE','PriE','ProE']\n",
    "    depts2 = ['Ben','CoL','Eco','Edu','Eng','FiS','His','InR','LIS','Phi','PhE','San','Soc']\n",
    "    depts3 = ['Chem','Geo','GeS','InS','LSBT','Math','Phys']\n",
    "    return depts3[i]\n",
    "def getVal(x):\n",
    "    if x>9:\n",
    "        return \"%s\"%x\n",
    "    return \"0%d\"%x"
   ]
  },
  {
   "cell_type": "code",
   "execution_count": 107,
   "metadata": {},
   "outputs": [],
   "source": [
    "query = \"INSERT INTO `professor` (`prof_id`, `prof_name`, `prof_dept`, `Designation`) VALUES \"\n",
    "dept_val = [0]*17\n",
    "for proffs in prof:\n",
    "    dept = getDept(proffs[2])\n",
    "    \n",
    "    ids = getDeptId(dept)\n",
    "    #print(dept,ids)\n",
    "    profid = getId(ids) + ids + getVal(dept_val[int(ids)])\n",
    "    dept_val[int(ids)] += 1\n",
    "    query = query + \"('%s','%s','%s','%s') , \"%(profid,proffs[1],dept,proffs[3])"
   ]
  },
  {
   "cell_type": "code",
   "execution_count": 108,
   "metadata": {},
   "outputs": [
    {
     "data": {
      "text/plain": [
       "\"INSERT INTO `professor` (`prof_id`, `prof_name`, `prof_dept`, `Designation`) VALUES ('Chem0100','SUBRATA MUKHOPADHYAY','SCIENCE01','PROFESSOR') , ('Chem0101','SAMARESH BHATTACHARYA','SCIENCE01','PROFESSOR') , ('Chem0102','SUBRATA NATH KONER','SCIENCE01','PROFESSOR') , ('Chem0103','KAJAL KRISHNA RAJAK','SCIENCE01','PROFESSOR') , ('Chem0104','JNAN PRAKASH NASKAR','SCIENCE01','PROFESSOR') , ('Chem0105','KAUSIKISANKAR PRAMANIK','SCIENCE01','PROFESSOR') , ('Chem0106','CHITTARANJAN SINHA','SCIENCE01','PROFESSOR') , ('Chem0107','SUJOY BAITALIK','SCIENCE01','PROFESSOR') , ('Chem0108','DEBAJYOTI GHOSHAL ','SCIENCE01','ASSOCIATE PROFESSOR') , ('Chem0109','SAURABH DAS','SCIENCE01','PROFESSOR') , ('Chem0110','PARTHA ROY','SCIENCE01','ASSOCIATE PROFESSOR') , ('Chem0111','TAPAN KUMAR MONDAL','SCIENCE01','ASSOCIATE PROFESSOR') , ('Chem0112','SHOUVIK CHATTOPADHYAY','SCIENCE01','ASSOCIATE PROFESSOR') , ('Chem0113','BIBHUTI BHUSHAN SHOW','SCIENCE01','ASST. PROFESSOR') , ('Chem0114','AMRITA SAHA','SCIENCE01','ASST. PROFESSOR') , ('Chem0115','MOHABUL ALAM MONDAL','SCIENCE01','ASST. PROFESSOR') , ('Chem0116','AMIT SAHA','SCIENCE01','ASST. PROFESSOR') , ('Chem0117','ARUNABHA THAKUR','SCIENCE01','ASST. PROFESSOR') , ('Chem0118','SAMIT GUHA','SCIENCE01','ASST. PROFESSOR') , ('Chem0119','SANJAY BHAR','SCIENCE01','PROFESSOR') , ('Chem0120','RINA GHOSH','SCIENCE01','PROFESSOR') , ('Chem0121','GOURHARI MAITI','SCIENCE01','PROFESSOR') , ('Chem0122','UMESH CHANDRA HALDER','SCIENCE01','PROFESSOR') , ('Chem0123','UMASISH JANA','SCIENCE01','PROFESSOR') , ('Chem0124','SAUBHIK HALDAR','SCIENCE01','ASSOCIATE PROFESSOR') , ('Chem0125','TANURIMA BHAUMIK','SCIENCE01','ASST. PROFESSOR') , ('Chem0126','MANAS KUMAR PANDA','SCIENCE01','ASST. PROFESSOR') , ('Chem0127','ASAMANJOY BHUNIA','SCIENCE01','ASST. PROFESSOR') , ('Chem0128','NITIN KUMAR CHATTOPADHYAY','SCIENCE01','PROFESSOR') , ('Chem0129','KALYAN KUMAR DAS','SCIENCE01','PROFESSOR') , ('Chem0130','BIPLAB BHATTACHARJEE','SCIENCE01','ASSOCIATE PROFESSOR') , ('Chem0131','SWAPAN KUMAR BHATTACHARYA','SCIENCE01','PROFESSOR') , ('Chem0132','SOUMEN GHOSH','SCIENCE01','PROFESSOR') , ('Chem0133','PRADIP KUMAR MAHAPATRA','SCIENCE01','ASSOCIATE PROFESSOR') , ('Chem0134','AMBIKESH MAHAPATRA','SCIENCE01','PROFESSOR') , ('Chem0135','CHANDAN KUMAR MONDAL','SCIENCE01','PROFESSOR') , ('Chem0136','ARUP GAYEN','SCIENCE01','ASSOCIATE PROFESSOR') , ('Chem0137','SUMAN DAS','SCIENCE01','ASSOCIATE PROFESSOR') , ('Chem0138','PARTHA PRATIM PARUI','SCIENCE01','ASSOCIATE PROFESSOR') , ('Chem0139','PARTHA MAHATA','SCIENCE01','ASST. PROFESSOR') , ('Chem0140','SATYADEEP WAIBA','SCIENCE01','ASST. PROFESSOR') , ('Geo0200','SUBRATA KARMAKAR','SCIENCE02','PROFESSOR') , ('Geo0201','DIPAK CHANDRA PAL','SCIENCE02','PROFESSOR') , ('Geo0202','SUPRIYA MONDAL','SCIENCE02','PROFESSOR') , ('Geo0203','SANJOY SANYAL','SCIENCE02','PROFESSOR') , ('Geo0204','SISIR KANTI MONDAL','SCIENCE02','PROFESSOR') , ('Geo0205','SUSANTA KUMAR SAMANTA','SCIENCE02','PROFESSOR') , ('Geo0206','SUBIR SARKAR','SCIENCE02','PROFESSOR') , ('Geo0207','PULAK SENGUPTA','SCIENCE02','PROFESSOR') , ('Geo0208','SUBIR MUKHOPADHYAY','SCIENCE02','PROFESSOR') , ('Geo0209','NIBIR MANDAL','SCIENCE02','PROFESSOR') , ('Geo0210','ANUPAM GHOSH','SCIENCE02','ASST. PROFESSOR') , ('Geo0211','SADHANA M. CHATTERJEE','SCIENCE02','ASST. PROFESSOR') , ('Geo0212','BABAR ALI SHAH','SCIENCE02','ASST. PROFESSOR') , ('Geo0213','TRIDIB KUMAR MONDAL','SCIENCE02','ASST. PROFESSOR') , ('Geo0214','SUSANTA CHAUDHURI','SCIENCE02','ASST. PROFESSOR') , ('Geo0215','SUNIPA MANDAL','SCIENCE02','ASST. PROFESSOR') , ('Geo0216','SOUMIK MUKHOPADHYAY','SCIENCE02','ASST. PROFESSOR') , ('GeS0300','LAKSHMI SIVARAMAKRISHNAN','SCIENCE03','PROFESSOR') , ('GeS0301','DEBAJIT DATTA','SCIENCE03','ASST. PROFESSOR') , ('GeS0302','ARIJIT MAJUMDER','SCIENCE03','ASST. PROFESSOR') , ('Math0600','SUJIT KR SARDAR','SCIENCE06','PROFESSOR') , ('Math0601','ANUP BANDYOPADHYAY','SCIENCE06','PROFESSOR') , ('Math0602','ARINDAM BHATTACHARYYA','SCIENCE06','PROFESSOR') , ('Math0603','KALLOL PAUL','SCIENCE06','PROFESSOR') , ('Math0604','ABHIJIT LAHIRI','SCIENCE06','PROFESSOR') , ('Math0605','SHAMIK GHOSH','SCIENCE06','PROFESSOR') , ('Math0606','ALAKA DAS','SCIENCE06','PROFESSOR') , ('Math0607','NANDADULAL BAIRAGI','SCIENCE06','PROFESSOR') , ('Math0608','PRABIR KUMAR KUNDU','SCIENCE06','PROFESSOR') , ('Math0609','BUDDHADEB SAU','SCIENCE06','PROFESSOR') , ('Math0610','FAROOK RAHAMAN','SCIENCE06','PROFESSOR') , ('Math0611','DIPAK KUMAR KESH','SCIENCE06','PROFESSOR') , ('Math0612','PRATULANANDA DAS','SCIENCE06','PROFESSOR') , ('Math0613','NARAYAN CH MAJEE','SCIENCE06','ASSOCIATE PROFESSOR') , ('Math0614','SUBENOY CHAKRABORTY','SCIENCE06','PROFESSOR') , ('Math0615','PRAKASH CHANDRA MALI','SCIENCE06','PROFESSOR') , ('Math0616','ASHIS KUMAR SARKAR','SCIENCE06','PROFESSOR') , ('Math0617','SAGNIK SINHA','SCIENCE06','PROFESSOR') , ('Math0618','SUDESHNA BANERJEE','SCIENCE06','PROFESSOR') , ('Math0619','SWAPNA DEBNATH','SCIENCE06','PROFESSOR') , ('Math0620','SUBHAS CHANDRA MANDAL','SCIENCE06','PROFESSOR') , ('Math0621','BIBHAS CHANDRA GIRI','SCIENCE06','PROFESSOR') , ('Math0622','GOPAL CHANDRA SHIT','SCIENCE06','ASSOCIATE PROFESSOR') , ('Math0623','MANASI MANDAL','SCIENCE06','ASSOCIATE PROFESSOR') , ('Math0624','PRITI KUMAR ROY','SCIENCE06','PROFESSOR') , ('Math0625','SUKHENDU KAR','SCIENCE06','ASSOCIATE PROFESSOR') , ('Math0626','NILANJANA MAHATA','SCIENCE06','ASSOCIATE PROFESSOR') , ('Math0627','SANTOSH BISWAS','SCIENCE06','ASST. PROFESSOR') , ('Phys0700','SUKHEN DAS','SCIENCE07','PROFESSOR') , ('Phys0701','JAYOTI DAS','SCIENCE07','PROFESSOR') , ('Phys0702','DEBASISH BISWAS','SCIENCE07','PROFESSOR') , ('Phys0703','SANJAY KUMAR','SCIENCE07','PROFESSOR') , ('Phys0704','PARTHA PRATIM RAY','SCIENCE07','ASSOCIATE PROFESSOR') , ('Phys0705','SANAT KARMAKAR','SCIENCE07','ASSOCIATE PROFESSOR') , ('Phys0706','SARMISHTHA MANDAL','SCIENCE07','ASST. PROFESSOR') , ('Phys0707','AJAY KUMAR GHOSH','SCIENCE07','PROFESSOR') , ('Phys0708','BRAJADULAL CHATTOPADHYAY','SCIENCE07','PROFESSOR') , ('Phys0709','NABIN BARAN MANIK','SCIENCE07','PROFESSOR') , ('Phys0710','SUBHANKAR RAY','SCIENCE07','ASSOCIATE PROFESSOR') , ('Phys0711','ARGHA DEB','SCIENCE07','PROFESSOR') , ('Phys0712','DEBASISH LOHAR','SCIENCE07','PROFESSOR') , ('Phys0713','KALYAN KUMAR CHATTOPADHYAY','SCIENCE07','PROFESSOR') , ('Phys0714','SULAVA BHATTACHARYA','SCIENCE07','ASSOCIATE PROFESSOR') , ('Phys0715','TAPAS KUMAR BALLAV','SCIENCE07','ASSOCIATE PROFESSOR') , ('Phys0716','SUBRATA SARKAR','SCIENCE07','ASST. PROFESSOR') , ('Phys0717','RUMA RAY','SCIENCE07','PROFESSOR') , ('Phys0718','SUBHADIPTA MUKHOPADHYAY','SCIENCE07','ASSOCIATE PROFESSOR') , ('Phys0719','SK SAIYAD ALI','SCIENCE07','ASSOCIATE PROFESSOR') , ('Phys0720','BHARATI TUDU','SCIENCE07','ASST. PROFESSOR') , ('Phys0721','ASIM KUMAR GHOSH','SCIENCE07','PROFESSOR') , ('Phys0722','PUSPENDU SAHU','SCIENCE07','ASSOCIATE PROFESSOR') , ('Phys0723','BASUDEV GHOSH','SCIENCE07','PROFESSOR') , ('Phys0724','PABITRA KUMAR PAUL','SCIENCE07','ASSOCIATE PROFESSOR') , ('Phys0725','ABIRAL TAMANG','SCIENCE07','ASST. PROFESSOR') , ('Phys0726','DHRUBA BANERJEE','SCIENCE07','ASST. PROFESSOR') , ('Phys0727','AVIJIT MUKHERJEE','SCIENCE07','ASSOCIATE PROFESSOR') , ('Phys0728','JOYDEEP CHOWDHURY','SCIENCE07','PROFESSOR') , ('Phys0729','ABHIJIT SAMANTA','SCIENCE07','ASST. PROFESSOR') , ('Phys0730','SAIKAT KUMAR SETH','SCIENCE07','ASST. PROFESSOR') , ('Phys0731','MITALI MONDAL','SCIENCE07','PROFESSOR') , ('Phys0732','SOUMEN MONDAL','SCIENCE07','ASST. PROFESSOR') , ('LSBT0500','RATAN GACHHUI','SCIENCE05','PROFESSOR') , ('LSBT0501','PARIMAL KARMAKAR','SCIENCE05','PROFESSOR') , ('LSBT0502','BISWADIP DAS','SCIENCE05','PROFESSOR') , ('LSBT0503','PALTU KUMAR DHAL','SCIENCE05','ASST. PROFESSOR') , ('InS0400','ANUP KUMAR GHOSH','SCIENCE04','ASSOCIATE PROFESSOR') , ('InS0401','SACHINDRANATH DAS','SCIENCE04','ASST. PROFESSOR') , \""
      ]
     },
     "execution_count": 108,
     "metadata": {},
     "output_type": "execute_result"
    }
   ],
   "source": [
    "query"
   ]
  },
  {
   "cell_type": "code",
   "execution_count": null,
   "metadata": {},
   "outputs": [],
   "source": []
  }
 ],
 "metadata": {
  "kernelspec": {
   "display_name": "Python 3",
   "language": "python",
   "name": "python3"
  },
  "language_info": {
   "codemirror_mode": {
    "name": "ipython",
    "version": 3
   },
   "file_extension": ".py",
   "mimetype": "text/x-python",
   "name": "python",
   "nbconvert_exporter": "python",
   "pygments_lexer": "ipython3",
   "version": "3.7.4"
  }
 },
 "nbformat": 4,
 "nbformat_minor": 2
}
