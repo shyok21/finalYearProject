{
 "cells": [
  {
   "cell_type": "code",
   "execution_count": 3,
   "metadata": {},
   "outputs": [
    {
     "name": "stdout",
     "output_type": "stream",
     "text": [
      "Requirement already satisfied: mysql-connector-python in /home/shyok/anaconda3/lib/python3.7/site-packages (8.0.23)\r\n",
      "Requirement already satisfied: protobuf>=3.0.0 in /home/shyok/anaconda3/lib/python3.7/site-packages (from mysql-connector-python) (3.11.3)\r\n",
      "Requirement already satisfied: six>=1.9 in /home/shyok/anaconda3/lib/python3.7/site-packages (from protobuf>=3.0.0->mysql-connector-python) (1.15.0)\r\n",
      "Requirement already satisfied: setuptools in /home/shyok/anaconda3/lib/python3.7/site-packages (from protobuf>=3.0.0->mysql-connector-python) (49.1.0)\r\n"
     ]
    }
   ],
   "source": [
    "!pip install mysql-connector-python"
   ]
  },
  {
   "cell_type": "code",
   "execution_count": 4,
   "metadata": {},
   "outputs": [],
   "source": [
    "import mysql.connector"
   ]
  },
  {
   "cell_type": "code",
   "execution_count": 5,
   "metadata": {},
   "outputs": [
    {
     "name": "stdout",
     "output_type": "stream",
     "text": [
      "<mysql.connector.connection_cext.CMySQLConnection object at 0x7f35641f3090>\n"
     ]
    }
   ],
   "source": [
    "mydb = mysql.connector.connect(\n",
    "    host=\"fypdatabase.c3lhoz340eat.us-east-1.rds.amazonaws.com\",\n",
    "    user=\"admin\",\n",
    "    password=\"A987yuBU\",\n",
    "    database=\"phd_management\"\n",
    ")\n",
    "\n",
    "print(mydb)"
   ]
  },
  {
   "cell_type": "code",
   "execution_count": 21,
   "metadata": {},
   "outputs": [
    {
     "name": "stdout",
     "output_type": "stream",
     "text": [
      "('PRC01', 'ARTS01')\n"
     ]
    }
   ],
   "source": [
    "mycursor = mydb.cursor()\n",
    "\n",
    "mycursor.execute(\"SELECT * FROM prc\")\n",
    "\n",
    "myresult = mycursor.fetchall()\n",
    "\n",
    "print(myresult[0])"
   ]
  },
  {
   "cell_type": "code",
   "execution_count": 23,
   "metadata": {},
   "outputs": [],
   "source": [
    "def getNum(x):\n",
    "    y = \"\"\n",
    "    for chars in x:\n",
    "        if(chars>= '0' and chars<='9'):\n",
    "            y+=chars\n",
    "    return y\n",
    "def getVal(x):\n",
    "    if x[0] == 'A':\n",
    "        return \"_arts\"\n",
    "    elif x[0] == 'E':\n",
    "        return \"_engg\"\n",
    "    else:\n",
    "        return \"_science\"\n",
    "def getUser(x):\n",
    "    x = x.lower()\n",
    "    x = x.replace(\" \",\"\",4)\n",
    "    return x\n",
    "def getEmail(ids,name):\n",
    "    num = getNum(ids)\n",
    "    usn = getUser(name)\n",
    "    return \"prc%s%s@gmail.com\"%(getVal(name),getNum(ids))"
   ]
  },
  {
   "cell_type": "code",
   "execution_count": 25,
   "metadata": {},
   "outputs": [
    {
     "name": "stdout",
     "output_type": "stream",
     "text": [
      "prc_arts01@gmail.com\n"
     ]
    }
   ],
   "source": [
    "x = getEmail(myresult[0][0],myresult[0][1])\n",
    "print(x)"
   ]
  },
  {
   "cell_type": "code",
   "execution_count": 17,
   "metadata": {},
   "outputs": [],
   "source": [
    "password = \"$2b$10$.yI0XU2ftyb7c5K3pNuJ7ezZ2ctl1LlnlEVNjVQOZ84DmpkgzlMmm\""
   ]
  },
  {
   "cell_type": "code",
   "execution_count": 26,
   "metadata": {},
   "outputs": [],
   "source": [
    "query = \"insert into `login` (`id`,`email`,`password`,`type`) values \"\n",
    "for res in myresult:\n",
    "    query += \"('%s','%s','%s','prc') ,\"%(res[0],getEmail(res[0],res[1]),password)"
   ]
  },
  {
   "cell_type": "code",
   "execution_count": 27,
   "metadata": {},
   "outputs": [
    {
     "name": "stdout",
     "output_type": "stream",
     "text": [
      "insert into `login` (`id`,`email`,`password`,`type`) values ('PRC01','prc_arts01@gmail.com','$2b$10$.yI0XU2ftyb7c5K3pNuJ7ezZ2ctl1LlnlEVNjVQOZ84DmpkgzlMmm','prc') ,('PRC02','prc_arts02@gmail.com','$2b$10$.yI0XU2ftyb7c5K3pNuJ7ezZ2ctl1LlnlEVNjVQOZ84DmpkgzlMmm','prc') ,('PRC03','prc_arts03@gmail.com','$2b$10$.yI0XU2ftyb7c5K3pNuJ7ezZ2ctl1LlnlEVNjVQOZ84DmpkgzlMmm','prc') ,('PRC04','prc_arts04@gmail.com','$2b$10$.yI0XU2ftyb7c5K3pNuJ7ezZ2ctl1LlnlEVNjVQOZ84DmpkgzlMmm','prc') ,('PRC05','prc_arts05@gmail.com','$2b$10$.yI0XU2ftyb7c5K3pNuJ7ezZ2ctl1LlnlEVNjVQOZ84DmpkgzlMmm','prc') ,('PRC06','prc_arts06@gmail.com','$2b$10$.yI0XU2ftyb7c5K3pNuJ7ezZ2ctl1LlnlEVNjVQOZ84DmpkgzlMmm','prc') ,('PRC07','prc_arts07@gmail.com','$2b$10$.yI0XU2ftyb7c5K3pNuJ7ezZ2ctl1LlnlEVNjVQOZ84DmpkgzlMmm','prc') ,('PRC08','prc_arts08@gmail.com','$2b$10$.yI0XU2ftyb7c5K3pNuJ7ezZ2ctl1LlnlEVNjVQOZ84DmpkgzlMmm','prc') ,('PRC09','prc_arts09@gmail.com','$2b$10$.yI0XU2ftyb7c5K3pNuJ7ezZ2ctl1LlnlEVNjVQOZ84DmpkgzlMmm','prc') ,('PRC10','prc_arts10@gmail.com','$2b$10$.yI0XU2ftyb7c5K3pNuJ7ezZ2ctl1LlnlEVNjVQOZ84DmpkgzlMmm','prc') ,('PRC11','prc_arts11@gmail.com','$2b$10$.yI0XU2ftyb7c5K3pNuJ7ezZ2ctl1LlnlEVNjVQOZ84DmpkgzlMmm','prc') ,('PRC12','prc_arts12@gmail.com','$2b$10$.yI0XU2ftyb7c5K3pNuJ7ezZ2ctl1LlnlEVNjVQOZ84DmpkgzlMmm','prc') ,('PRC13','prc_arts13@gmail.com','$2b$10$.yI0XU2ftyb7c5K3pNuJ7ezZ2ctl1LlnlEVNjVQOZ84DmpkgzlMmm','prc') ,('PRC14','prc_engg14@gmail.com','$2b$10$.yI0XU2ftyb7c5K3pNuJ7ezZ2ctl1LlnlEVNjVQOZ84DmpkgzlMmm','prc') ,('PRC15','prc_engg15@gmail.com','$2b$10$.yI0XU2ftyb7c5K3pNuJ7ezZ2ctl1LlnlEVNjVQOZ84DmpkgzlMmm','prc') ,('PRC16','prc_engg16@gmail.com','$2b$10$.yI0XU2ftyb7c5K3pNuJ7ezZ2ctl1LlnlEVNjVQOZ84DmpkgzlMmm','prc') ,('PRC17','prc_engg17@gmail.com','$2b$10$.yI0XU2ftyb7c5K3pNuJ7ezZ2ctl1LlnlEVNjVQOZ84DmpkgzlMmm','prc') ,('PRC18','prc_engg18@gmail.com','$2b$10$.yI0XU2ftyb7c5K3pNuJ7ezZ2ctl1LlnlEVNjVQOZ84DmpkgzlMmm','prc') ,('PRC19','prc_engg19@gmail.com','$2b$10$.yI0XU2ftyb7c5K3pNuJ7ezZ2ctl1LlnlEVNjVQOZ84DmpkgzlMmm','prc') ,('PRC20','prc_engg20@gmail.com','$2b$10$.yI0XU2ftyb7c5K3pNuJ7ezZ2ctl1LlnlEVNjVQOZ84DmpkgzlMmm','prc') ,('PRC21','prc_engg21@gmail.com','$2b$10$.yI0XU2ftyb7c5K3pNuJ7ezZ2ctl1LlnlEVNjVQOZ84DmpkgzlMmm','prc') ,('PRC22','prc_engg22@gmail.com','$2b$10$.yI0XU2ftyb7c5K3pNuJ7ezZ2ctl1LlnlEVNjVQOZ84DmpkgzlMmm','prc') ,('PRC23','prc_engg23@gmail.com','$2b$10$.yI0XU2ftyb7c5K3pNuJ7ezZ2ctl1LlnlEVNjVQOZ84DmpkgzlMmm','prc') ,('PRC24','prc_engg24@gmail.com','$2b$10$.yI0XU2ftyb7c5K3pNuJ7ezZ2ctl1LlnlEVNjVQOZ84DmpkgzlMmm','prc') ,('PRC25','prc_engg25@gmail.com','$2b$10$.yI0XU2ftyb7c5K3pNuJ7ezZ2ctl1LlnlEVNjVQOZ84DmpkgzlMmm','prc') ,('PRC26','prc_engg26@gmail.com','$2b$10$.yI0XU2ftyb7c5K3pNuJ7ezZ2ctl1LlnlEVNjVQOZ84DmpkgzlMmm','prc') ,('PRC27','prc_engg27@gmail.com','$2b$10$.yI0XU2ftyb7c5K3pNuJ7ezZ2ctl1LlnlEVNjVQOZ84DmpkgzlMmm','prc') ,('PRC28','prc_engg28@gmail.com','$2b$10$.yI0XU2ftyb7c5K3pNuJ7ezZ2ctl1LlnlEVNjVQOZ84DmpkgzlMmm','prc') ,('PRC29','prc_engg29@gmail.com','$2b$10$.yI0XU2ftyb7c5K3pNuJ7ezZ2ctl1LlnlEVNjVQOZ84DmpkgzlMmm','prc') ,('PRC30','prc_science30@gmail.com','$2b$10$.yI0XU2ftyb7c5K3pNuJ7ezZ2ctl1LlnlEVNjVQOZ84DmpkgzlMmm','prc') ,('PRC31','prc_science31@gmail.com','$2b$10$.yI0XU2ftyb7c5K3pNuJ7ezZ2ctl1LlnlEVNjVQOZ84DmpkgzlMmm','prc') ,('PRC32','prc_science32@gmail.com','$2b$10$.yI0XU2ftyb7c5K3pNuJ7ezZ2ctl1LlnlEVNjVQOZ84DmpkgzlMmm','prc') ,('PRC33','prc_science33@gmail.com','$2b$10$.yI0XU2ftyb7c5K3pNuJ7ezZ2ctl1LlnlEVNjVQOZ84DmpkgzlMmm','prc') ,('PRC34','prc_science34@gmail.com','$2b$10$.yI0XU2ftyb7c5K3pNuJ7ezZ2ctl1LlnlEVNjVQOZ84DmpkgzlMmm','prc') ,('PRC35','prc_science35@gmail.com','$2b$10$.yI0XU2ftyb7c5K3pNuJ7ezZ2ctl1LlnlEVNjVQOZ84DmpkgzlMmm','prc') ,('PRC36','prc_science36@gmail.com','$2b$10$.yI0XU2ftyb7c5K3pNuJ7ezZ2ctl1LlnlEVNjVQOZ84DmpkgzlMmm','prc') ,\n"
     ]
    }
   ],
   "source": [
    "print(query)"
   ]
  },
  {
   "cell_type": "code",
   "execution_count": null,
   "metadata": {},
   "outputs": [],
   "source": []
  },
  {
   "cell_type": "code",
   "execution_count": null,
   "metadata": {},
   "outputs": [],
   "source": []
  }
 ],
 "metadata": {
  "kernelspec": {
   "display_name": "Python 3",
   "language": "python",
   "name": "python3"
  },
  "language_info": {
   "codemirror_mode": {
    "name": "ipython",
    "version": 3
   },
   "file_extension": ".py",
   "mimetype": "text/x-python",
   "name": "python",
   "nbconvert_exporter": "python",
   "pygments_lexer": "ipython3",
   "version": "3.7.4"
  }
 },
 "nbformat": 4,
 "nbformat_minor": 2
}
